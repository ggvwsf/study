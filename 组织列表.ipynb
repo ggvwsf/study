{
 "cells": [
  {
   "cell_type": "markdown",
   "metadata": {},
   "source": [
    "# 使用方法sort（）对列表进行永久性排序\n",
    "- Python方法sort()能够较轻松的对列表进行排序"
   ]
  },
  {
   "cell_type": "code",
   "execution_count": 1,
   "metadata": {},
   "outputs": [
    {
     "name": "stdout",
     "output_type": "stream",
     "text": [
      "['audi', 'bmw', 'subaru', 'toyota']\n"
     ]
    }
   ],
   "source": [
    "cars=['bmw','audi','toyota','subaru']\n",
    "cars.sort()\n",
    "print(cars)\n",
    "#方法sort（）永久性的修改列表元素的排序（以首字母来排序）"
   ]
  },
  {
   "cell_type": "code",
   "execution_count": 2,
   "metadata": {},
   "outputs": [
    {
     "name": "stdout",
     "output_type": "stream",
     "text": [
      "['toyota', 'subaru', 'bmw', 'audi']\n"
     ]
    }
   ],
   "source": [
    "#还可以按与字母顺序相反的顺序排列列表元素\n",
    "#只需向sort（）方法传递参数reverse=True\n",
    "cars=['bmw','audi','toyota','subaru']\n",
    "cars.sort(reverse=True)\n",
    "print(cars)"
   ]
  },
  {
   "cell_type": "markdown",
   "metadata": {},
   "source": [
    "# 使用函数sorted（）对列表进行临时排序\n",
    "- 要保留列表元素原来的排列顺序，同时以特定的顺序呈现它们，可使用函数sorted（）。\n",
    "- 函数sorted（）能够按特定的顺序显示列表元素，同时不影响它们在列表中的原始排列顺序"
   ]
  },
  {
   "cell_type": "code",
   "execution_count": 3,
   "metadata": {},
   "outputs": [
    {
     "name": "stdout",
     "output_type": "stream",
     "text": [
      "Here is the original list:\n",
      "['bmw', 'audi', 'toyota', 'subaru']\n",
      "\n",
      "Hers is the original list:\n",
      "['audi', 'bmw', 'subaru', 'toyota']\n",
      "\n",
      "Here is the original list again:\n",
      "['bmw', 'audi', 'toyota', 'subaru']\n"
     ]
    }
   ],
   "source": [
    "cars=['bmw','audi','toyota','subaru']\n",
    "print(\"Here is the original list:\")\n",
    "print(cars)\n",
    "\n",
    "print(\"\\nHers is the original list:\")\n",
    "print(sorted(cars))\n",
    "\n",
    "print(\"\\nHere is the original list again:\")\n",
    "print(cars)\n",
    "\n",
    "#首先按原始顺序打印第一个列表，再按字母顺序显示第二个列表。\n",
    "#以特定的顺序显示列表后，进行核实，确认列表元素的排列顺序与以前相同第三个列表\n",
    "\n",
    "\n",
    "# 注意\n",
    "#调用函数sorted（）后列表元素的排列顺序并没有变。\n",
    "#如果要按字母顺序相反的顺序显示列表，也可向函数sorted（）传递参数reverse=True"
   ]
  },
  {
   "cell_type": "code",
   "execution_count": 4,
   "metadata": {},
   "outputs": [
    {
     "name": "stdout",
     "output_type": "stream",
     "text": [
      "['bmw', 'audi', 'toyota', 'subaru']\n",
      "['subaru', 'toyota', 'audi', 'bmw']\n"
     ]
    }
   ],
   "source": [
    "#倒着打印列表\n",
    "#要反转列表元素的排列顺序，可使用方法reverse（）\n",
    "\n",
    "cars=['bmw','audi','toyota','subaru']\n",
    "print(cars)\n",
    "\n",
    "cars.reverse()\n",
    "print(cars)\n",
    "\n",
    "#注意\n",
    "#reverse()不是指按与字母顺序相反的顺序排列列表元素，而只是反转列表元素的排列顺序\n",
    "\n",
    "#方法reversr()永久性地修改列表元素的排列顺序，但可随时恢复到原来的排列顺序，为此只需对列表再次调用reverse（）"
   ]
  },
  {
   "cell_type": "code",
   "execution_count": 6,
   "metadata": {},
   "outputs": [
    {
     "data": {
      "text/plain": [
       "4"
      ]
     },
     "execution_count": 6,
     "metadata": {},
     "output_type": "execute_result"
    }
   ],
   "source": [
    "#确定列表的长度\n",
    "#使用函数len（）可快速获悉列表的长度\n",
    "\n",
    "cars=['bmw','audi','toyota','subaru']\n",
    "len(cars)"
   ]
  },
  {
   "cell_type": "code",
   "execution_count": 7,
   "metadata": {},
   "outputs": [
    {
     "name": "stdout",
     "output_type": "stream",
     "text": [
      "['shanghai', 'egypt', 'prague', 'hokkaido', 'Akihabar']\n"
     ]
    }
   ],
   "source": [
    "#试一试\n",
    "travel=['shanghai','egypt','prague','hokkaido','Akihabar']\n",
    "print(travel)"
   ]
  },
  {
   "cell_type": "code",
   "execution_count": 10,
   "metadata": {},
   "outputs": [
    {
     "name": "stdout",
     "output_type": "stream",
     "text": [
      "Here is the original list:\n",
      "['shanghai', 'egypt', 'prague', 'hokkaido', 'Akihabar']\n",
      "\n",
      "Here is the original list:\n",
      "['shanghai', 'egypt', 'prague', 'hokkaido', 'Akihabar']\n",
      "\n",
      "Here is the original list again:\n",
      "['shanghai', 'egypt', 'prague', 'hokkaido', 'Akihabar']\n"
     ]
    }
   ],
   "source": [
    "travel=['shanghai','egypt','prague','hokkaido','Akihabar']\n",
    "\n",
    "print(\"Here is the original list:\")\n",
    "print(travel)\n",
    "\n",
    "print(\"\\nHere is the original list:\")\n",
    "print(travel)\n",
    "\n",
    "print(\"\\nHere is the original list again:\")\n",
    "print(travel)"
   ]
  },
  {
   "cell_type": "code",
   "execution_count": 11,
   "metadata": {},
   "outputs": [
    {
     "name": "stdout",
     "output_type": "stream",
     "text": [
      "['shanghai', 'egypt', 'prague', 'hokkaido', 'Akihabar']\n",
      "['Akihabar', 'hokkaido', 'prague', 'egypt', 'shanghai']\n"
     ]
    }
   ],
   "source": [
    "travel=['shanghai','egypt','prague','hokkaido','Akihabar']\n",
    "print(travel)\n",
    "\n",
    "travel.reverse()\n",
    "print(travel)"
   ]
  },
  {
   "cell_type": "code",
   "execution_count": 12,
   "metadata": {},
   "outputs": [
    {
     "name": "stdout",
     "output_type": "stream",
     "text": [
      "['Akihabar', 'egypt', 'hokkaido', 'prague', 'shanghai']\n"
     ]
    }
   ],
   "source": [
    "travel=['shanghai','egypt','prague','hokkaido','Akihabar']\n",
    "travel.sort()\n",
    "print(travel)"
   ]
  },
  {
   "cell_type": "code",
   "execution_count": 13,
   "metadata": {},
   "outputs": [
    {
     "name": "stdout",
     "output_type": "stream",
     "text": [
      "['shanghai', 'prague', 'hokkaido', 'egypt', 'Akihabar']\n"
     ]
    }
   ],
   "source": [
    "travel=['shanghai','egypt','prague','hokkaido','Akihabar']\n",
    "travel.sort(reverse=True)\n",
    "print(travel)"
   ]
  },
  {
   "cell_type": "code",
   "execution_count": 14,
   "metadata": {},
   "outputs": [
    {
     "data": {
      "text/plain": [
       "5"
      ]
     },
     "execution_count": 14,
     "metadata": {},
     "output_type": "execute_result"
    }
   ],
   "source": [
    "travel=['shanghai','egypt','prague','hokkaido','Akihabar']\n",
    "len(travel)"
   ]
  },
  {
   "cell_type": "code",
   "execution_count": null,
   "metadata": {},
   "outputs": [],
   "source": []
  }
 ],
 "metadata": {
  "kernelspec": {
   "display_name": "Python 3",
   "language": "python",
   "name": "python3"
  },
  "language_info": {
   "codemirror_mode": {
    "name": "ipython",
    "version": 3
   },
   "file_extension": ".py",
   "mimetype": "text/x-python",
   "name": "python",
   "nbconvert_exporter": "python",
   "pygments_lexer": "ipython3",
   "version": "3.7.1"
  }
 },
 "nbformat": 4,
 "nbformat_minor": 2
}
