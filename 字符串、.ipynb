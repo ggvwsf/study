{
 "cells": [
  {
   "cell_type": "markdown",
   "metadata": {},
   "source": [
    "# python中引号括起来的都是字符串，字符串可以使单引号，也可是使用双引号，这种灵活性能够在字符串中包含引号和撇号"
   ]
  },
  {
   "cell_type": "code",
   "execution_count": 2,
   "metadata": {},
   "outputs": [
    {
     "name": "stdout",
     "output_type": "stream",
     "text": [
      "Ada Lovelace\n"
     ]
    }
   ],
   "source": [
    "name=\"ada lovelace\"\n",
    "print(name.title())"
   ]
  },
  {
   "cell_type": "markdown",
   "metadata": {},
   "source": [
    "# title（）为方法\n",
    "  - 方法是Python可对数据执行的操作\n",
    "  - 每个方法后面都跟着一对括号，这是因为方法通常需要额外的信息来完成其工作\n",
    "  - 这种信息是括号内提供\n",
    "  - 函数title（）不需要额外信息，因此他后面的括号是空的"
   ]
  },
  {
   "cell_type": "code",
   "execution_count": 1,
   "metadata": {},
   "outputs": [
    {
     "name": "stdout",
     "output_type": "stream",
     "text": [
      "ADA LOVELACE\n",
      "ada lovelace\n"
     ]
    }
   ],
   "source": [
    "name=\"Ada Lovelace\"\n",
    "print(name.upper())\n",
    "print(name.lower())"
   ]
  },
  {
   "cell_type": "markdown",
   "metadata": {},
   "source": [
    "# 存储数据时，方法lower()很有用。\n",
    "- 很多时候无法依靠用户来提供正确的大小写，因此需要将字符串先转换为小写，在存储它们。\n",
    "- 以后需要显示这些信息的时候，在想其转换为最合适的大写方式"
   ]
  },
  {
   "cell_type": "code",
   "execution_count": 6,
   "metadata": {},
   "outputs": [
    {
     "name": "stdout",
     "output_type": "stream",
     "text": [
      "ada lovelace\n"
     ]
    }
   ],
   "source": [
    "first_name=\"ada\"\n",
    "last_name=\"lovelace\"\n",
    "full_name=first_name+\" \"+last_name\n",
    "\n",
    "print(full_name)"
   ]
  },
  {
   "cell_type": "code",
   "execution_count": 7,
   "metadata": {},
   "outputs": [
    {
     "name": "stdout",
     "output_type": "stream",
     "text": [
      "Hello,Ada Lovelace!\n"
     ]
    }
   ],
   "source": [
    "first_name=\"ada\"\n",
    "last_name=\"lovelace\"\n",
    "full_name=first_name+\" \"+last_name\n",
    "\n",
    "print(\"Hello,\"+full_name.title()+\"!\")"
   ]
  },
  {
   "cell_type": "code",
   "execution_count": 8,
   "metadata": {},
   "outputs": [
    {
     "name": "stdout",
     "output_type": "stream",
     "text": [
      "Hello,Ada Lovelace!\n"
     ]
    }
   ],
   "source": [
    "first_name=\"ada\"\n",
    "last_name=\"lovelace\"\n",
    "full_name=first_name+\" \"+last_name\n",
    "\n",
    "message=\"Hello,\"+full_name.title()+\"!\"\n",
    "print(message)"
   ]
  },
  {
   "cell_type": "markdown",
   "metadata": {},
   "source": [
    "# 上述代码也显示消息“Hello,Ada Lovelace!”,但将这条消息存储在一个变量中message，这将最后print语句简单的多"
   ]
  },
  {
   "cell_type": "code",
   "execution_count": null,
   "metadata": {},
   "outputs": [],
   "source": []
  },
  {
   "cell_type": "code",
   "execution_count": null,
   "metadata": {},
   "outputs": [],
   "source": []
  },
  {
   "cell_type": "markdown",
   "metadata": {},
   "source": [
    "# 在编程中，空白泛指任何非打印字符，如空格、制表符、和换行符。\n",
    "- 可以使用空白来组织输出，以是其更易读\n",
    "- 要在字符串中添加制表符，可使用字符组合\\t"
   ]
  },
  {
   "cell_type": "code",
   "execution_count": 10,
   "metadata": {},
   "outputs": [
    {
     "name": "stdout",
     "output_type": "stream",
     "text": [
      "python\n"
     ]
    }
   ],
   "source": [
    "print(\"python\")"
   ]
  },
  {
   "cell_type": "code",
   "execution_count": 11,
   "metadata": {},
   "outputs": [
    {
     "name": "stdout",
     "output_type": "stream",
     "text": [
      "\tpython\n"
     ]
    }
   ],
   "source": [
    "print(\"\\tpython\")"
   ]
  },
  {
   "cell_type": "markdown",
   "metadata": {},
   "source": [
    "# 要在字符串中添加换行符，可使用字符组合\\n"
   ]
  },
  {
   "cell_type": "code",
   "execution_count": 12,
   "metadata": {},
   "outputs": [
    {
     "name": "stdout",
     "output_type": "stream",
     "text": [
      "Languages:\n",
      "python\n",
      "JavaScript\n"
     ]
    }
   ],
   "source": [
    "print(\"Languages:\\npython\\nJavaScript\")"
   ]
  },
  {
   "cell_type": "markdown",
   "metadata": {},
   "source": [
    "# 还可以在同一个字符串中同事包含制表符和换行符。\n",
    "- 字符串“\\n\\t”让Python换到下一行，并在下一行开头添加一个制表符"
   ]
  },
  {
   "cell_type": "code",
   "execution_count": 13,
   "metadata": {},
   "outputs": [
    {
     "name": "stdout",
     "output_type": "stream",
     "text": [
      "Languages:\n",
      "\tpython\n",
      "\tC\n",
      "\tJaveScript\n"
     ]
    }
   ],
   "source": [
    "print(\"Languages:\\n\\tpython\\n\\tC\\n\\tJaveScript\")"
   ]
  },
  {
   "cell_type": "code",
   "execution_count": 14,
   "metadata": {},
   "outputs": [
    {
     "name": "stdout",
     "output_type": "stream",
     "text": [
      "Languages:\n",
      "\tpython\n",
      "C\tJaveScript\n"
     ]
    }
   ],
   "source": [
    "print(\"Languages:\\n\\tpython\\nC\\tJaveScript\")"
   ]
  },
  {
   "cell_type": "code",
   "execution_count": 15,
   "metadata": {},
   "outputs": [
    {
     "name": "stdout",
     "output_type": "stream",
     "text": [
      "Language:\n",
      "\tpython\tC\n",
      "JaveScript\n"
     ]
    }
   ],
   "source": [
    "print(\"Language:\\n\\tpython\\tC\\nJaveScript\")"
   ]
  },
  {
   "cell_type": "code",
   "execution_count": null,
   "metadata": {},
   "outputs": [],
   "source": []
  },
  {
   "cell_type": "code",
   "execution_count": null,
   "metadata": {},
   "outputs": [],
   "source": []
  },
  {
   "cell_type": "markdown",
   "metadata": {},
   "source": [
    "# 删除空白\n",
    "- 空白很重要，因为经常需要比较两个字符串是否相同\n",
    "- 要确保字符串末尾没有空白，可使用方法rstrip()"
   ]
  },
  {
   "cell_type": "markdown",
   "metadata": {},
   "source": [
    "# 使用字符串是避免语法错误\n",
    "- 语法错误是一种时不时会遇到的错误\n",
    "- 程序包含非法的Python代码是，就会导致语法错误"
   ]
  },
  {
   "cell_type": "code",
   "execution_count": 23,
   "metadata": {},
   "outputs": [
    {
     "name": "stdout",
     "output_type": "stream",
     "text": [
      "Hello Chen  Jiawei,would like to learn some python today?\n"
     ]
    }
   ],
   "source": [
    "surname=\"chen\"\n",
    "name=\"jiawei\"\n",
    "hurry=surname+\"  \"+name\n",
    "\n",
    "me=(\"Hello \"+hurry.title()+\",would like to learn some python today?\")\n",
    "print(me)"
   ]
  },
  {
   "cell_type": "code",
   "execution_count": 24,
   "metadata": {},
   "outputs": [
    {
     "name": "stdout",
     "output_type": "stream",
     "text": [
      "Chen Jiawei\n"
     ]
    }
   ],
   "source": [
    "name=\"chen jiawei\"\n",
    "print(name.title())"
   ]
  },
  {
   "cell_type": "code",
   "execution_count": 27,
   "metadata": {},
   "outputs": [
    {
     "name": "stdout",
     "output_type": "stream",
     "text": [
      "Mao  Zedong once said,study hard.\n"
     ]
    }
   ],
   "source": [
    "surname=\"mao\"\n",
    "name=\"zedong\"\n",
    "hurry=surname+\"  \"+name\n",
    "\n",
    "me=(hurry.title()+\" once said,\"+\"study hard.\")\n",
    "print(me)"
   ]
  },
  {
   "cell_type": "code",
   "execution_count": 32,
   "metadata": {},
   "outputs": [
    {
     "name": "stdout",
     "output_type": "stream",
     "text": [
      "\tchenjiawei\n"
     ]
    }
   ],
   "source": [
    "print(\"\\tchenjiawei\")"
   ]
  },
  {
   "cell_type": "code",
   "execution_count": 35,
   "metadata": {},
   "outputs": [
    {
     "name": "stdout",
     "output_type": "stream",
     "text": [
      "\tchenjiawei\n",
      "\n"
     ]
    }
   ],
   "source": [
    "print(\"\\tchenjiawei\\n\")"
   ]
  },
  {
   "cell_type": "code",
   "execution_count": null,
   "metadata": {},
   "outputs": [],
   "source": []
  }
 ],
 "metadata": {
  "kernelspec": {
   "display_name": "Python 3",
   "language": "python",
   "name": "python3"
  },
  "language_info": {
   "codemirror_mode": {
    "name": "ipython",
    "version": 3
   },
   "file_extension": ".py",
   "mimetype": "text/x-python",
   "name": "python",
   "nbconvert_exporter": "python",
   "pygments_lexer": "ipython3",
   "version": "3.7.1"
  }
 },
 "nbformat": 4,
 "nbformat_minor": 2
}
