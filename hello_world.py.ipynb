{
 "cells": [
  {
   "cell_type": "code",
   "execution_count": 2,
   "metadata": {},
   "outputs": [
    {
     "name": "stdout",
     "output_type": "stream",
     "text": [
      "hello python world!\n"
     ]
    }
   ],
   "source": [
    "print(\"hello python world!\")"
   ]
  },
  {
   "cell_type": "code",
   "execution_count": 3,
   "metadata": {},
   "outputs": [
    {
     "name": "stdout",
     "output_type": "stream",
     "text": [
      "Hello python world!\n"
     ]
    }
   ],
   "source": [
    "message=\"Hello python world!\"\n",
    "print(message)"
   ]
  },
  {
   "cell_type": "markdown",
   "metadata": {},
   "source": [
    "# message是变量，变量没有固定词组\n",
    "- 如写me可以，写作汉字也可以"
   ]
  },
  {
   "cell_type": "code",
   "execution_count": 4,
   "metadata": {},
   "outputs": [
    {
     "name": "stdout",
     "output_type": "stream",
     "text": [
      "Hello python world!\n"
     ]
    }
   ],
   "source": [
    "汉字=\"Hello python world!\"\n",
    "print(汉字)"
   ]
  },
  {
   "cell_type": "code",
   "execution_count": 5,
   "metadata": {},
   "outputs": [
    {
     "name": "stdout",
     "output_type": "stream",
     "text": [
      "Hello python world!\n",
      "Hello python Crash Course world!\n"
     ]
    }
   ],
   "source": [
    "message=\"Hello python world!\"\n",
    "print(message)\n",
    "\n",
    "message=\"Hello python Crash Course world!\"\n",
    "print(message)"
   ]
  },
  {
   "cell_type": "markdown",
   "metadata": {},
   "source": [
    "# 变量中的值可以随时修改，但是Python只会记录最新值"
   ]
  },
  {
   "cell_type": "markdown",
   "metadata": {},
   "source": [
    "# 变量名只能包含数字、字母、和下划线\n",
    "- 变量名可以字母打头，但不能数字打头，如可message_1，不可1_message。\n",
    "- 变量名不能包含空格，但可以下划线来分割单词。\n",
    "- 不要讲Python关键词和函数用作变量词。\n",
    "- 变量词应简短又具有描述性。如message比m好，name_length比length_of_persons_name好。\n",
    "- 慎用小写字母i和大写字母O，因为它们可能被人错看成数字1和0."
   ]
  },
  {
   "cell_type": "markdown",
   "metadata": {},
   "source": [
    "# 变量名最好使用小写字母"
   ]
  },
  {
   "cell_type": "code",
   "execution_count": 7,
   "metadata": {},
   "outputs": [
    {
     "name": "stdout",
     "output_type": "stream",
     "text": [
      "Hello python Crash Course reader!\n"
     ]
    }
   ],
   "source": [
    "message=\"Hello python Crash Course reader!\"\n",
    "print(message)"
   ]
  },
  {
   "cell_type": "code",
   "execution_count": 8,
   "metadata": {},
   "outputs": [
    {
     "name": "stdout",
     "output_type": "stream",
     "text": [
      "我很苦恼!\n"
     ]
    }
   ],
   "source": [
    "ms=\"我很苦恼!\"\n",
    "print(ms)"
   ]
  },
  {
   "cell_type": "code",
   "execution_count": 19,
   "metadata": {
    "scrolled": true
   },
   "outputs": [
    {
     "name": "stdout",
     "output_type": "stream",
     "text": [
      "我很苦恼!\n",
      "没钱,没钱\n"
     ]
    }
   ],
   "source": [
    "ms=\"我很苦恼!\"\n",
    "print(ms)\n",
    "\n",
    "ms=\"没钱,没钱\"\n",
    "print(ms)\n"
   ]
  },
  {
   "cell_type": "markdown",
   "metadata": {},
   "source": [
    "# 使用Python时，不论是字母还是标点符号一定要用英文的，不然一定报错！！！！！！"
   ]
  }
 ],
 "metadata": {
  "kernelspec": {
   "display_name": "Python 3",
   "language": "python",
   "name": "python3"
  },
  "language_info": {
   "codemirror_mode": {
    "name": "ipython",
    "version": 3
   },
   "file_extension": ".py",
   "mimetype": "text/x-python",
   "name": "python",
   "nbconvert_exporter": "python",
   "pygments_lexer": "ipython3",
   "version": "3.7.1"
  }
 },
 "nbformat": 4,
 "nbformat_minor": 2
}
