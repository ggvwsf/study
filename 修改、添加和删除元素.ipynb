{
 "cells": [
  {
   "cell_type": "code",
   "execution_count": 1,
   "metadata": {},
   "outputs": [
    {
     "name": "stdout",
     "output_type": "stream",
     "text": [
      "['honda', 'yamaha', 'suzuki']\n",
      "['ducati', 'yamaha', 'suzuki']\n"
     ]
    }
   ],
   "source": [
    "# 修改列表元素的语法与访问列表元素的语法类似\n",
    "# 要修改列表元素，可指定列表名和要修改的元素索引，在指定该元素的新值\n",
    "#如：\n",
    "motorcycles=['honda','yamaha','suzuki']\n",
    "print(motorcycles)\n",
    "\n",
    "motorcycles[0]='ducati'\n",
    "print(motorcycles)\n",
    "\n",
    "\n",
    "#可以修改任何列表元素的值，而不仅仅是第一个元素"
   ]
  },
  {
   "cell_type": "code",
   "execution_count": 4,
   "metadata": {},
   "outputs": [
    {
     "name": "stdout",
     "output_type": "stream",
     "text": [
      "['honda', 'yamaha', 'suzuki']\n",
      "['honda', 'yamaha', 'suzuki', 'ducati']\n"
     ]
    }
   ],
   "source": [
    "#在列表中添加元素\n",
    "#在列表末尾添加元素：\n",
    "motorcycles=['honda','yamaha','suzuki']\n",
    "print(motorcycles)\n",
    "\n",
    "motorcycles.append('ducati')\n",
    "print(motorcycles)\n",
    "\n",
    "#方法append()将元素‘ducati’添加到末尾，而不影响列表其他所有元素"
   ]
  },
  {
   "cell_type": "code",
   "execution_count": 5,
   "metadata": {},
   "outputs": [
    {
     "name": "stdout",
     "output_type": "stream",
     "text": [
      "['honda', 'yamaha', 'suzuki']\n"
     ]
    }
   ],
   "source": [
    "# 方法append（）让动态的创建列表易如反掌，列如，先创建一个空列表，在使用一系列的append（）语句添加元素。\n",
    "motorcycles=[]\n",
    "\n",
    "motorcycles.append('honda')\n",
    "motorcycles.append('yamaha')\n",
    "motorcycles.append('suzuki')\n",
    "\n",
    "print(motorcycles)\n",
    "\n",
    "#这种创建列表的方式极其常见，因为经常要等程序运行后，你才知道用户要在程序中存储那些数据。\n",
    "#为控制用户，可先创建一个空列表，用于存储用户将要输入的值，然后将用户提供的每个新值附加到列表中"
   ]
  },
  {
   "cell_type": "code",
   "execution_count": 6,
   "metadata": {},
   "outputs": [
    {
     "name": "stdout",
     "output_type": "stream",
     "text": [
      "['ducati', 'honda', 'yamaha', 'suzuki']\n"
     ]
    }
   ],
   "source": [
    "#列表中插入元素\n",
    "#使用方法insert（）可在列表的任何位置添加元素。为此，需要指定新元素的索引和值\n",
    "motorcycles=['honda','yamaha','suzuki']\n",
    "\n",
    "motorcycles.insert(0,'ducati')\n",
    "print(motorcycles)\n",
    "\n",
    "#方法insert()在索引0处添加空间，并将值‘ducati’存储到这个地方。这种操作将列表中既有的每个元素都右移一个位置"
   ]
  },
  {
   "cell_type": "code",
   "execution_count": 1,
   "metadata": {},
   "outputs": [
    {
     "name": "stdout",
     "output_type": "stream",
     "text": [
      "['honda', 'yamaha', 'suzuki']\n",
      "['yamaha', 'suzuki']\n"
     ]
    }
   ],
   "source": [
    "#使用del语句删除元素\n",
    "#如：\n",
    "motorcycles=['honda','yamaha','suzuki']\n",
    "print(motorcycles)\n",
    "\n",
    "del motorcycles[0]\n",
    "print(motorcycles)\n",
    "\n",
    "#使用del可删除任何位置处的列表元素，条件是知道其索引。"
   ]
  },
  {
   "cell_type": "code",
   "execution_count": 2,
   "metadata": {},
   "outputs": [
    {
     "name": "stdout",
     "output_type": "stream",
     "text": [
      "['honda', 'yamaha', 'suzuki']\n",
      "['honda', 'suzuki']\n"
     ]
    }
   ],
   "source": [
    "motorcycles=['honda','yamaha','suzuki']\n",
    "print(motorcycles)\n",
    "\n",
    "del motorcycles[1]\n",
    "print(motorcycles)"
   ]
  },
  {
   "cell_type": "markdown",
   "metadata": {},
   "source": [
    "# 使用方法pop（）删除元素\n",
    "- 方法pop（）可删除列表末尾的元素，并能够接着使用它。\n",
    "- 术语弹出（pop）源自这样的类比：\n",
    "-                    列表就像个栈，而删除列表末尾的元素相当于弹出栈顶元素"
   ]
  },
  {
   "cell_type": "code",
   "execution_count": 3,
   "metadata": {},
   "outputs": [
    {
     "name": "stdout",
     "output_type": "stream",
     "text": [
      "['honda', 'yamaha', 'suzuki']\n",
      "['honda', 'yamaha']\n",
      "suzuki\n"
     ]
    }
   ],
   "source": [
    "motorcycles=['honda','yamaha','suzuki']\n",
    "print(motorcycles)\n",
    "\n",
    "popped_motorcycles=motorcycles.pop()\n",
    "print(motorcycles)\n",
    "print(popped_motorcycles)"
   ]
  },
  {
   "cell_type": "code",
   "execution_count": 5,
   "metadata": {},
   "outputs": [
    {
     "name": "stdout",
     "output_type": "stream",
     "text": [
      "The first motorcycles I owned was a Honda.\n"
     ]
    }
   ],
   "source": [
    "#可以使用pop（）来删除列表中任何位置的元素，只需在括号中指定要删除的元素的索引即可\n",
    "motorcycles=['honda','yamaha','suzuki']\n",
    "\n",
    "first_owned=motorcycles.pop(0)\n",
    "print('The first motorcycles I owned was a '+first_owned.title()+'.')\n",
    "#弹出列表中第一款摩托车，然后打印一条有关这辆摩托车的消息。"
   ]
  },
  {
   "cell_type": "markdown",
   "metadata": {},
   "source": [
    "# 每当使用pop（）时，被弹出的元素就不再列表中\n",
    "- 如不确定该使用del语句还是pop（）方法，有一个简单的判断标准：\n",
    "                                       - 如果要从列表中删除一个元素，且不再以任何方式使用它，就使用del语句\n",
    "                                       - 如果要在删除元素后还能继续使用，就使用方法pop（）"
   ]
  },
  {
   "cell_type": "code",
   "execution_count": 7,
   "metadata": {},
   "outputs": [
    {
     "name": "stdout",
     "output_type": "stream",
     "text": [
      "['honda', 'yamaha', 'suzuki', 'ducati']\n",
      "['honda', 'yamaha', 'suzuki']\n"
     ]
    }
   ],
   "source": [
    "# 有时候，不知道要从列表中删除的值所处的位置。如果只知道要删除的元素值，可使用方法remove（）\n",
    "#如\n",
    "motorcycles=['honda','yamaha','suzuki','ducati']\n",
    "print(motorcycles)\n",
    "\n",
    "motorcycles.remove('ducati')\n",
    "print(motorcycles)\n",
    "# 代码让Python确定‘ducati’出现在列表的什么地方，并将该元素删除"
   ]
  },
  {
   "cell_type": "code",
   "execution_count": 9,
   "metadata": {},
   "outputs": [
    {
     "name": "stdout",
     "output_type": "stream",
     "text": [
      "['honda', 'yamaha', 'suzuki', 'ducati']\n",
      "['honda', 'yamaha', 'suzuki']\n",
      "\n",
      "A Ducati is too expensive for me.\n"
     ]
    }
   ],
   "source": [
    "#使用remove（）从列表中删除元素时，也可接着使用它的值\n",
    "motorcycles=['honda','yamaha','suzuki','ducati']\n",
    "print(motorcycles)\n",
    "\n",
    "too_expensive='ducati'\n",
    "motorcycles.remove(too_expensive)\n",
    "print(motorcycles)\n",
    "print(\"\\nA \"+too_expensive.title()+\" is too expensive for me.\")\n",
    "\n",
    "#在定义列表后，将值‘ducati’存储在变量too_expensive中。\n",
    "#接下来，使用这个变量来告诉Python将哪个值从列表中删除。\n",
    "#最后，值‘ducati’已经从列表中删除，但它还存储在变量too_expensive中"
   ]
  },
  {
   "cell_type": "markdown",
   "metadata": {},
   "source": [
    "# 注意\n",
    "- 方法remove（）值删除第一个指定的值。如果要删除的值可能在列表中多次出现，就需要使用循环来判断是否删除了所有的值"
   ]
  },
  {
   "cell_type": "code",
   "execution_count": 12,
   "metadata": {},
   "outputs": [
    {
     "name": "stdout",
     "output_type": "stream",
     "text": [
      "['Chen hanfei', 'Jiang meifang', 'Jiang weihua']\n"
     ]
    }
   ],
   "source": [
    "#列表不能有空格\n",
    "#试一试\n",
    "invitation=['Chen hanfei','Jiang meifang','Jiang weihua']\n",
    "print(invitation)"
   ]
  },
  {
   "cell_type": "code",
   "execution_count": 13,
   "metadata": {},
   "outputs": [
    {
     "name": "stdout",
     "output_type": "stream",
     "text": [
      "['Chen hanfei', 'Jiang meifang', 'Jiang weihua']\n",
      "['Chen hanfei', 'Jiang meifang']\n"
     ]
    }
   ],
   "source": [
    "invitation=['Chen hanfei','Jiang meifang','Jiang weihua']\n",
    "print(invitation)\n",
    "\n",
    "del invitation[2]\n",
    "print(invitation)"
   ]
  },
  {
   "cell_type": "code",
   "execution_count": 17,
   "metadata": {},
   "outputs": [
    {
     "name": "stdout",
     "output_type": "stream",
     "text": [
      "['Chen hanfei', 'Jiang meifang', 'Jiang weihua']\n",
      "['Chen hanfei', 'Jiang meifang', 'Zhang kuigang']\n"
     ]
    }
   ],
   "source": [
    "invitation=['Chen hanfei','Jiang meifang','Jiang weihua']\n",
    "print(invitation)\n",
    "\n",
    "del invitation[2]\n",
    "invitation.append('Zhang kuigang')\n",
    "print(invitation)"
   ]
  },
  {
   "cell_type": "code",
   "execution_count": 20,
   "metadata": {},
   "outputs": [
    {
     "name": "stdout",
     "output_type": "stream",
     "text": [
      "['Chen hanfei', 'Jiang meifang', 'Jiang weihua']\n",
      "['Zhang kuigang', 'Chen hanfei', 'Jiang meifang', 'Jiang weihua']\n"
     ]
    }
   ],
   "source": [
    "invitation=['Chen hanfei','Jiang meifang','Jiang weihua']\n",
    "print(invitation)\n",
    "\n",
    "invitation.insert(0,'Zhang kuigang')\n",
    "print(invitation)"
   ]
  },
  {
   "cell_type": "code",
   "execution_count": 22,
   "metadata": {},
   "outputs": [
    {
     "name": "stdout",
     "output_type": "stream",
     "text": [
      "['Chen hanfei', 'Jiang meifang', 'Jiang weihua']\n",
      "['Zhang kuigang', 'Chen hanfei', 'Zhang feng', 'Jiang meifang', 'Jiang weihua', 'Wang gang']\n"
     ]
    }
   ],
   "source": [
    "invitation=['Chen hanfei','Jiang meifang','Jiang weihua']\n",
    "print(invitation)\n",
    "\n",
    "invitation.insert(0,'Zhang kuigang')\n",
    "invitation.insert(2,'Zhang feng')\n",
    "invitation.append('Wang gang')\n",
    "print(invitation)"
   ]
  },
  {
   "cell_type": "code",
   "execution_count": 36,
   "metadata": {},
   "outputs": [
    {
     "name": "stdout",
     "output_type": "stream",
     "text": [
      "['Chen hanfei', 'Jiang meifang', 'Jiang weihua']\n",
      "['Zhang kuigang', 'Chen hanfei', 'Zhang feng', 'Jiang meifang', 'Jiang weihua', 'Wang gang']\n",
      "['Chen hanfei', 'Jiang meifang', 'Wang gang']\n",
      "[]\n"
     ]
    }
   ],
   "source": [
    "invitation=['Chen hanfei','Jiang meifang','Jiang weihua']\n",
    "print(invitation)\n",
    "\n",
    "invitation.insert(0,'Zhang kuigang')\n",
    "invitation.insert(2,'Zhang feng')\n",
    "invitation.append('Wang gang')\n",
    "print(invitation)\n",
    "\n",
    "fi=invitation.pop(0)\n",
    "fi=invitation.pop(1)\n",
    "fi=invitation.pop(2)\n",
    "\n",
    "print(invitation)\n",
    "\n",
    "del invitation[0]\n",
    "del invitation[1]\n",
    "del invitation[0]\n",
    "print(invitation)\n",
    "                "
   ]
  },
  {
   "cell_type": "code",
   "execution_count": null,
   "metadata": {},
   "outputs": [],
   "source": []
  }
 ],
 "metadata": {
  "kernelspec": {
   "display_name": "Python 3",
   "language": "python",
   "name": "python3"
  },
  "language_info": {
   "codemirror_mode": {
    "name": "ipython",
    "version": 3
   },
   "file_extension": ".py",
   "mimetype": "text/x-python",
   "name": "python",
   "nbconvert_exporter": "python",
   "pygments_lexer": "ipython3",
   "version": "3.7.1"
  }
 },
 "nbformat": 4,
 "nbformat_minor": 2
}
